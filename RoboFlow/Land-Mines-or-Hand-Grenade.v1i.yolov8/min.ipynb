{
 "cells": [
  {
   "cell_type": "code",
   "execution_count": null,
   "id": "4990256f",
   "metadata": {},
   "outputs": [],
   "source": [
    "# Cell 2: Quick Dataset Check\n",
    "import yaml\n",
    "\n",
    "with open('data.yaml', 'r') as f:\n",
    "    data_cfg = yaml.safe_load(f)\n",
    "\n",
    "print(\"📊 Dataset Configuration:\")\n",
    "print(f\"Classes: {data_cfg['nc']}\")\n",
    "print(f\"Class Names: {data_cfg['names']}\")\n",
    "print(f\"Train path: {data_cfg['train']}\")\n",
    "print(f\"Val path: {data_cfg['val']}\")"
   ]
  },
  {
   "cell_type": "code",
   "execution_count": null,
   "id": "3a9b4da4",
   "metadata": {},
   "outputs": [],
   "source": [
    "# Cell 3: Training (Single Cell)\n",
    "from ultralytics import YOLO\n",
    "\n",
    "# Load model and train\n",
    "model = YOLO('yolov8n.pt')\n",
    "# print(model.info)\n",
    "results = model.train(\n",
    "    data='data.yaml',\n",
    "    epochs=4,\n",
    "    imgsz=640,\n",
    "    batch=8,\n",
    "    device=0,\n",
    "    name='yolov8n_grenade_mines',\n",
    "    patience=15,\n",
    "    save=True\n",
    ")\n",
    "\n",
    "print(\"🎉 Training completed!\")"
   ]
  },
  {
   "cell_type": "code",
   "execution_count": null,
   "id": "5c08fd2f",
   "metadata": {},
   "outputs": [],
   "source": [
    "# Cell 4: Quick Validation\n",
    "model = YOLO('runs/detect/yolov8n_grenade_mines/weights/best.pt')\n",
    "metrics = model.val()\n",
    "print(f\"📈 mAP50-95: {metrics.box.map:.4f}\")"
   ]
  },
  {
   "cell_type": "code",
   "execution_count": null,
   "id": "d823bc9f",
   "metadata": {},
   "outputs": [],
   "source": [
    "# Cell 5: Export for Raspberry Pi\n",
    "model.export(format='onnx')\n",
    "print(\"✅ Model exported to ONNX format\")"
   ]
  },
  {
   "cell_type": "code",
   "execution_count": null,
   "id": "00962a45",
   "metadata": {},
   "outputs": [],
   "source": [
    "import glob\n",
    "import random\n",
    "import matplotlib.pyplot as plt\n",
    "import os\n",
    "\n",
    "# Make predictions\n",
    "results = model.predict('test/images/', save=True, conf=0.5)\n",
    "print(f\"🔍 Predictions saved in: {results[0].save_dir}\")"
   ]
  },
  {
   "cell_type": "code",
   "execution_count": null,
   "id": "5c88ff5e",
   "metadata": {},
   "outputs": [],
   "source": [
    "import onnx\n",
    "from onnxruntime.quantization import quantize_dynamic, QuantType\n",
    "\n",
    "# Quantize model from FP32 to INT8\n",
    "def quantize_model():\n",
    "    input_model = 'best.onnx'\n",
    "    output_model = 'best_qnt.onnx'\n",
    "    \n",
    "    quantize_dynamic(\n",
    "        input_model,\n",
    "        output_model,\n",
    "        weight_type=QuantType.QUInt8\n",
    "    )\n",
    "    \n",
    "    print(f\"✅ Model quantized: {output_model}\")\n",
    "    print(\"📊 Size reduced for faster Raspberry Pi inference\")"
   ]
  },
  {
   "cell_type": "code",
   "execution_count": 9,
   "id": "ab399a5d",
   "metadata": {},
   "outputs": [
    {
     "ename": "ValidationError",
     "evalue": "Unable to open proto file: best.onnx. Please check if it is a valid proto. ",
     "output_type": "error",
     "traceback": [
      "\u001b[31m---------------------------------------------------------------------------\u001b[39m",
      "\u001b[31mValidationError\u001b[39m                           Traceback (most recent call last)",
      "\u001b[36mCell\u001b[39m\u001b[36m \u001b[39m\u001b[32mIn[9]\u001b[39m\u001b[32m, line 2\u001b[39m\n\u001b[32m      1\u001b[39m \u001b[38;5;28;01mif\u001b[39;00m \u001b[34m__name__\u001b[39m == \u001b[33m\"\u001b[39m\u001b[33m__main__\u001b[39m\u001b[33m\"\u001b[39m:\n\u001b[32m----> \u001b[39m\u001b[32m2\u001b[39m     \u001b[43mquantize_model\u001b[49m\u001b[43m(\u001b[49m\u001b[43m)\u001b[49m\n",
      "\u001b[36mCell\u001b[39m\u001b[36m \u001b[39m\u001b[32mIn[8]\u001b[39m\u001b[32m, line 9\u001b[39m, in \u001b[36mquantize_model\u001b[39m\u001b[34m()\u001b[39m\n\u001b[32m      6\u001b[39m input_model = \u001b[33m'\u001b[39m\u001b[33mbest.onnx\u001b[39m\u001b[33m'\u001b[39m\n\u001b[32m      7\u001b[39m output_model = \u001b[33m'\u001b[39m\u001b[33mbest_qnt.onnx\u001b[39m\u001b[33m'\u001b[39m\n\u001b[32m----> \u001b[39m\u001b[32m9\u001b[39m \u001b[43mquantize_dynamic\u001b[49m\u001b[43m(\u001b[49m\n\u001b[32m     10\u001b[39m \u001b[43m    \u001b[49m\u001b[43minput_model\u001b[49m\u001b[43m,\u001b[49m\n\u001b[32m     11\u001b[39m \u001b[43m    \u001b[49m\u001b[43moutput_model\u001b[49m\u001b[43m,\u001b[49m\n\u001b[32m     12\u001b[39m \u001b[43m    \u001b[49m\u001b[43mweight_type\u001b[49m\u001b[43m=\u001b[49m\u001b[43mQuantType\u001b[49m\u001b[43m.\u001b[49m\u001b[43mQUInt8\u001b[49m\n\u001b[32m     13\u001b[39m \u001b[43m\u001b[49m\u001b[43m)\u001b[49m\n\u001b[32m     15\u001b[39m \u001b[38;5;28mprint\u001b[39m(\u001b[33mf\u001b[39m\u001b[33m\"\u001b[39m\u001b[33m✅ Model quantized: \u001b[39m\u001b[38;5;132;01m{\u001b[39;00moutput_model\u001b[38;5;132;01m}\u001b[39;00m\u001b[33m\"\u001b[39m)\n\u001b[32m     16\u001b[39m \u001b[38;5;28mprint\u001b[39m(\u001b[33m\"\u001b[39m\u001b[33m📊 Size reduced for faster Raspberry Pi inference\u001b[39m\u001b[33m\"\u001b[39m)\n",
      "\u001b[36mFile \u001b[39m\u001b[32m~/.genv/lib/python3.12/site-packages/onnxruntime/quantization/quantize.py:861\u001b[39m, in \u001b[36mquantize_dynamic\u001b[39m\u001b[34m(model_input, model_output, op_types_to_quantize, per_channel, reduce_range, weight_type, nodes_to_quantize, nodes_to_exclude, use_external_data_format, extra_options)\u001b[39m\n\u001b[32m    855\u001b[39m \u001b[38;5;28;01mif\u001b[39;00m \u001b[38;5;129;01mnot\u001b[39;00m op_types_to_quantize \u001b[38;5;129;01mor\u001b[39;00m \u001b[38;5;28mlen\u001b[39m(op_types_to_quantize) == \u001b[32m0\u001b[39m:\n\u001b[32m    856\u001b[39m     op_types_to_quantize = \u001b[38;5;28mlist\u001b[39m(IntegerOpsRegistry.keys())\n\u001b[32m    858\u001b[39m model = (\n\u001b[32m    859\u001b[39m     save_and_reload_model_with_shape_infer(model_input)\n\u001b[32m    860\u001b[39m     \u001b[38;5;28;01mif\u001b[39;00m \u001b[38;5;28misinstance\u001b[39m(model_input, onnx.ModelProto)\n\u001b[32m--> \u001b[39m\u001b[32m861\u001b[39m     \u001b[38;5;28;01melse\u001b[39;00m \u001b[43mload_model_with_shape_infer\u001b[49m\u001b[43m(\u001b[49m\u001b[43mPath\u001b[49m\u001b[43m(\u001b[49m\u001b[43mmodel_input\u001b[49m\u001b[43m)\u001b[49m\u001b[43m)\u001b[49m\n\u001b[32m    862\u001b[39m )\n\u001b[32m    864\u001b[39m pre_processed: \u001b[38;5;28mbool\u001b[39m = model_has_pre_process_metadata(model)\n\u001b[32m    865\u001b[39m \u001b[38;5;28;01mif\u001b[39;00m \u001b[38;5;129;01mnot\u001b[39;00m pre_processed:\n",
      "\u001b[36mFile \u001b[39m\u001b[32m~/.genv/lib/python3.12/site-packages/onnxruntime/quantization/quant_utils.py:1021\u001b[39m, in \u001b[36mload_model_with_shape_infer\u001b[39m\u001b[34m(model_path)\u001b[39m\n\u001b[32m   1019\u001b[39m \u001b[38;5;28;01mdef\u001b[39;00m\u001b[38;5;250m \u001b[39m\u001b[34mload_model_with_shape_infer\u001b[39m(model_path: Path) -> ModelProto:\n\u001b[32m   1020\u001b[39m     inferred_model_path = generate_identified_filename(model_path, \u001b[33m\"\u001b[39m\u001b[33m-inferred\u001b[39m\u001b[33m\"\u001b[39m)\n\u001b[32m-> \u001b[39m\u001b[32m1021\u001b[39m     \u001b[43monnx\u001b[49m\u001b[43m.\u001b[49m\u001b[43mshape_inference\u001b[49m\u001b[43m.\u001b[49m\u001b[43minfer_shapes_path\u001b[49m\u001b[43m(\u001b[49m\u001b[38;5;28;43mstr\u001b[39;49m\u001b[43m(\u001b[49m\u001b[43mmodel_path\u001b[49m\u001b[43m)\u001b[49m\u001b[43m,\u001b[49m\u001b[43m \u001b[49m\u001b[38;5;28;43mstr\u001b[39;49m\u001b[43m(\u001b[49m\u001b[43minferred_model_path\u001b[49m\u001b[43m)\u001b[49m\u001b[43m)\u001b[49m\n\u001b[32m   1022\u001b[39m     model = onnx.load(inferred_model_path.as_posix())\n\u001b[32m   1023\u001b[39m     add_infer_metadata(model)\n",
      "\u001b[36mFile \u001b[39m\u001b[32m~/.genv/lib/python3.12/site-packages/onnx/shape_inference.py:102\u001b[39m, in \u001b[36minfer_shapes_path\u001b[39m\u001b[34m(model_path, output_path, check_type, strict_mode, data_prop)\u001b[39m\n\u001b[32m    100\u001b[39m \u001b[38;5;28;01mif\u001b[39;00m output_path == \u001b[33m\"\u001b[39m\u001b[33m\"\u001b[39m:\n\u001b[32m    101\u001b[39m     output_path = model_path\n\u001b[32m--> \u001b[39m\u001b[32m102\u001b[39m \u001b[43mC\u001b[49m\u001b[43m.\u001b[49m\u001b[43minfer_shapes_path\u001b[49m\u001b[43m(\u001b[49m\u001b[43mmodel_path\u001b[49m\u001b[43m,\u001b[49m\u001b[43m \u001b[49m\u001b[43moutput_path\u001b[49m\u001b[43m,\u001b[49m\u001b[43m \u001b[49m\u001b[43mcheck_type\u001b[49m\u001b[43m,\u001b[49m\u001b[43m \u001b[49m\u001b[43mstrict_mode\u001b[49m\u001b[43m,\u001b[49m\u001b[43m \u001b[49m\u001b[43mdata_prop\u001b[49m\u001b[43m)\u001b[49m\n",
      "\u001b[31mValidationError\u001b[39m: Unable to open proto file: best.onnx. Please check if it is a valid proto. "
     ]
    }
   ],
   "source": [
    "if __name__ == \"__main__\":\n",
    "    quantize_model()"
   ]
  },
  {
   "cell_type": "code",
   "execution_count": null,
   "id": "2422d0ea",
   "metadata": {},
   "outputs": [],
   "source": []
  }
 ],
 "metadata": {
  "kernelspec": {
   "display_name": ".genv",
   "language": "python",
   "name": "python3"
  },
  "language_info": {
   "codemirror_mode": {
    "name": "ipython",
    "version": 3
   },
   "file_extension": ".py",
   "mimetype": "text/x-python",
   "name": "python",
   "nbconvert_exporter": "python",
   "pygments_lexer": "ipython3",
   "version": "3.12.3"
  }
 },
 "nbformat": 4,
 "nbformat_minor": 5
}
